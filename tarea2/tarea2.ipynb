{
 "cells": [
  {
   "cell_type": "markdown",
   "metadata": {},
   "source": [
    "EN PSEUDOCODIGO:"
   ]
  },
  {
   "cell_type": "markdown",
   "metadata": {},
   "source": [
    "ALGORITMO OrdenarTareasPorUrgencia(tareas):\n",
    "    # Entrada: una lista de \"tareas\", \n",
    "    # cada una con (nombre, deadline, prioridad).\n",
    "    #\n",
    "    # Salida: la misma lista \"tareas\", pero ordenada \n",
    "    #         por fecha de deadline (ascendente) y\n",
    "    #         luego por prioridad (descendente).\n",
    "\n",
    "    1. Para i = 1 hasta longitud(tareas):\n",
    "         - Convertir el deadline a un valor numérico si es necesario \n",
    "           (ej: 13 de marzo -> 13).\n",
    "    \n",
    "    2. Definir una función Comparar(tareaA, tareaB):\n",
    "         si tareaA.deadline < tareaB.deadline:\n",
    "             retornar A < B  (tareaA va antes)\n",
    "         si tareaA.deadline > tareaB.deadline:\n",
    "             retornar A > B  (tareaA va después)\n",
    "         # si deadlines son iguales, comparar prioridad\n",
    "         si tareaA.prioridad > tareaB.prioridad:\n",
    "             retornar A < B  (tareaA primero, pues mayor prioridad)\n",
    "         si tareaA.prioridad < tareaB.prioridad:\n",
    "             retornar A > B\n",
    "         # si prioridad también es igual, se deja el orden\n",
    "         retornar A = B\n",
    "    \n",
    "    3. Aplicar un método de ordenamiento (ej. MergeSort, QuickSort, etc.) \n",
    "       usando la función Comparar sobre la lista \"tareas\".\n",
    "    \n",
    "    4. Retornar la lista \"tareas\" ordenada.\n"
   ]
  },
  {
   "cell_type": "markdown",
   "metadata": {},
   "source": [
    "PYTHON:"
   ]
  },
  {
   "cell_type": "code",
   "execution_count": 1,
   "metadata": {},
   "outputs": [
    {
     "name": "stdout",
     "output_type": "stream",
     "text": [
      "Tareas ordenadas por urgencia (deadline y prioridad):\n",
      "Estudiar para prueba - Deadline: 2025-03-12 - Prioridad: 5\n",
      "Enviar correo al profesor - Deadline: 2025-03-12 - Prioridad: 3\n",
      "Limpiar habitación - Deadline: 2025-03-14 - Prioridad: 3\n",
      "Hacer compras - Deadline: 2025-03-15 - Prioridad: 2\n"
     ]
    }
   ],
   "source": [
    "import datetime\n",
    "\n",
    "def ordenar_tareas_por_urgencia(tareas):\n",
    "    \"\"\"\n",
    "    Ordena la lista de tareas primero por deadline (ascendente), \n",
    "    y en caso de tie, por prioridad (descendente).\n",
    "    \n",
    "    Param tareas: Lista de diccionarios con claves:\n",
    "                  {\"nombre\": str, \"deadline\": datetime.date, \"prioridad\": int}\n",
    "    Returns: Lista de tareas ordenadas.\n",
    "    \"\"\"\n",
    "    def criterio(t):\n",
    "        # t es un diccionario con keys: \"nombre\", \"deadline\", \"prioridad\"\n",
    "        # Convertimos la fecha a un valor comparable: t[\"deadline\"].toordinal(), por ej.\n",
    "        # La prioridad la pasamos con signo negativo para que al \"ordenar ascendente\",\n",
    "        # las prioridades más altas aparezcan primero.\n",
    "        return (t[\"deadline\"].toordinal(), -t[\"prioridad\"])\n",
    "    \n",
    "    # Usamos el método .sort() o sorted() con key=criterio\n",
    "    return sorted(tareas, key=criterio)\n",
    "\n",
    "if __name__ == \"__main__\":\n",
    "    # Ejemplo de datos\n",
    "    tareas = [\n",
    "        {\n",
    "            \"nombre\": \"Estudiar para prueba\",\n",
    "            \"deadline\": datetime.date(2025, 3, 12),\n",
    "            \"prioridad\": 5\n",
    "        },\n",
    "        {\n",
    "            \"nombre\": \"Hacer compras\",\n",
    "            \"deadline\": datetime.date(2025, 3, 15),\n",
    "            \"prioridad\": 2\n",
    "        },\n",
    "        {\n",
    "            \"nombre\": \"Enviar correo al profesor\",\n",
    "            \"deadline\": datetime.date(2025, 3, 12),\n",
    "            \"prioridad\": 3\n",
    "        },\n",
    "        {\n",
    "            \"nombre\": \"Limpiar habitación\",\n",
    "            \"deadline\": datetime.date(2025, 3, 14),\n",
    "            \"prioridad\": 3\n",
    "        }\n",
    "    ]\n",
    "    \n",
    "    tareas_ordenadas = ordenar_tareas_por_urgencia(tareas)\n",
    "    \n",
    "    print(\"Tareas ordenadas por urgencia (deadline y prioridad):\")\n",
    "    for t in tareas_ordenadas:\n",
    "        print(f\"{t['nombre']} - Deadline: {t['deadline']} - Prioridad: {t['prioridad']}\")\n"
   ]
  }
 ],
 "metadata": {
  "kernelspec": {
   "display_name": "Python 3",
   "language": "python",
   "name": "python3"
  },
  "language_info": {
   "codemirror_mode": {
    "name": "ipython",
    "version": 3
   },
   "file_extension": ".py",
   "mimetype": "text/x-python",
   "name": "python",
   "nbconvert_exporter": "python",
   "pygments_lexer": "ipython3",
   "version": "3.12.6"
  }
 },
 "nbformat": 4,
 "nbformat_minor": 2
}
